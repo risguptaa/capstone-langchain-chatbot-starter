{
  "nbformat": 4,
  "nbformat_minor": 0,
  "metadata": {
    "colab": {
      "provenance": [],
      "include_colab_link": true
    },
    "kernelspec": {
      "name": "python3",
      "display_name": "Python 3"
    },
    "language_info": {
      "name": "python"
    }
  },
  "cells": [
    {
      "cell_type": "markdown",
      "metadata": {
        "id": "view-in-github",
        "colab_type": "text"
      },
      "source": [
        "<a href=\"https://colab.research.google.com/github/risguptaa/capstone-langchain-chatbot-starter/blob/main/Bhagwat_ChatGPT_WORK.ipynb\" target=\"_parent\"><img src=\"https://colab.research.google.com/assets/colab-badge.svg\" alt=\"Open In Colab\"/></a>"
      ]
    },
    {
      "cell_type": "markdown",
      "source": [
        "# Generative Question Answering\n",
        "\n",
        "\n",
        "\n",
        "\n"
      ],
      "metadata": {
        "id": "vebipPXrcenY"
      }
    },
    {
      "cell_type": "markdown",
      "source": [
        "## Installation\n",
        "\n",
        "1. Click File -> Save a Copy in Drive. This will create a copy for you to modify in your Google Drive.\n",
        "\n",
        "2. This project will require you to install langchain, cohere, chromadb, and other libraries. Run the command below to start the installation. Installation may take a couple of minutes.\n",
        "\n",
        "\n",
        "3. Website link:\n",
        "\n",
        "https://www.gita-society.com/bhagavad-gita-in-english-source-file.pdf"
      ],
      "metadata": {
        "id": "qUG_X1n7ng9r"
      }
    },
    {
      "cell_type": "code",
      "execution_count": null,
      "metadata": {
        "id": "wDb_Ac_EryMP"
      },
      "outputs": [],
      "source": [
        "\n",
        "!pip install cohere==4.57 nltk==3.8 unstructured langchain==0.0.195 chromadb==0.3.26 > /dev/null 2>&1"
      ]
    },
    {
      "cell_type": "code",
      "source": [
        "pip install cohere==4.57 nltk==3.8 chromadb==0.3.26"
      ],
      "metadata": {
        "id": "m5xrUMJ9yqTV"
      },
      "execution_count": null,
      "outputs": []
    },
    {
      "cell_type": "code",
      "source": [
        "!pip install  unstructured langchain==0.0.195"
      ],
      "metadata": {
        "colab": {
          "base_uri": "https://localhost:8080/"
        },
        "id": "ArX33CW7vNlQ",
        "outputId": "37b04d64-2511-4a6c-bd0f-dbe8316a9988"
      },
      "execution_count": null,
      "outputs": [
        {
          "output_type": "stream",
          "name": "stdout",
          "text": [
            "Collecting unstructured\n",
            "  Downloading unstructured-0.16.4-py3-none-any.whl.metadata (24 kB)\n",
            "Collecting langchain==0.0.195\n",
            "  Downloading langchain-0.0.195-py3-none-any.whl.metadata (13 kB)\n",
            "Requirement already satisfied: PyYAML>=5.4.1 in /usr/local/lib/python3.10/dist-packages (from langchain==0.0.195) (6.0.2)\n",
            "Requirement already satisfied: SQLAlchemy<3,>=1.4 in /usr/local/lib/python3.10/dist-packages (from langchain==0.0.195) (2.0.36)\n",
            "Requirement already satisfied: aiohttp<4.0.0,>=3.8.3 in /usr/local/lib/python3.10/dist-packages (from langchain==0.0.195) (3.10.10)\n",
            "Requirement already satisfied: async-timeout<5.0.0,>=4.0.0 in /usr/local/lib/python3.10/dist-packages (from langchain==0.0.195) (4.0.3)\n",
            "Collecting dataclasses-json<0.6.0,>=0.5.7 (from langchain==0.0.195)\n",
            "  Downloading dataclasses_json-0.5.14-py3-none-any.whl.metadata (22 kB)\n",
            "Collecting langchainplus-sdk>=0.0.7 (from langchain==0.0.195)\n",
            "  Downloading langchainplus_sdk-0.0.20-py3-none-any.whl.metadata (8.7 kB)\n",
            "Requirement already satisfied: numexpr<3.0.0,>=2.8.4 in /usr/local/lib/python3.10/dist-packages (from langchain==0.0.195) (2.10.1)\n",
            "Requirement already satisfied: numpy<2,>=1 in /usr/local/lib/python3.10/dist-packages (from langchain==0.0.195) (1.26.4)\n",
            "Collecting openapi-schema-pydantic<2.0,>=1.2 (from langchain==0.0.195)\n",
            "  Downloading openapi_schema_pydantic-1.2.4-py3-none-any.whl.metadata (8.5 kB)\n",
            "Collecting pydantic<2,>=1 (from langchain==0.0.195)\n",
            "  Downloading pydantic-1.10.18-cp310-cp310-manylinux_2_17_x86_64.manylinux2014_x86_64.whl.metadata (152 kB)\n",
            "\u001b[2K     \u001b[90m━━━━━━━━━━━━━━━━━━━━━━━━━━━━━━━━━━━━━━━━\u001b[0m \u001b[32m152.2/152.2 kB\u001b[0m \u001b[31m5.3 MB/s\u001b[0m eta \u001b[36m0:00:00\u001b[0m\n",
            "\u001b[?25hRequirement already satisfied: requests<3,>=2 in /usr/local/lib/python3.10/dist-packages (from langchain==0.0.195) (2.32.3)\n",
            "Collecting tenacity<9.0.0,>=8.1.0 (from langchain==0.0.195)\n",
            "  Downloading tenacity-8.5.0-py3-none-any.whl.metadata (1.2 kB)\n",
            "Requirement already satisfied: chardet in /usr/local/lib/python3.10/dist-packages (from unstructured) (5.2.0)\n",
            "Collecting filetype (from unstructured)\n",
            "  Downloading filetype-1.2.0-py2.py3-none-any.whl.metadata (6.5 kB)\n",
            "Collecting python-magic (from unstructured)\n",
            "  Downloading python_magic-0.4.27-py2.py3-none-any.whl.metadata (5.8 kB)\n",
            "Requirement already satisfied: lxml in /usr/local/lib/python3.10/dist-packages (from unstructured) (5.3.0)\n",
            "Requirement already satisfied: nltk in /usr/local/lib/python3.10/dist-packages (from unstructured) (3.8.1)\n",
            "Requirement already satisfied: beautifulsoup4 in /usr/local/lib/python3.10/dist-packages (from unstructured) (4.12.3)\n",
            "Collecting emoji (from unstructured)\n",
            "  Downloading emoji-2.14.0-py3-none-any.whl.metadata (5.7 kB)\n",
            "Collecting python-iso639 (from unstructured)\n",
            "  Downloading python_iso639-2024.10.22-py3-none-any.whl.metadata (13 kB)\n",
            "Collecting langdetect (from unstructured)\n",
            "  Downloading langdetect-1.0.9.tar.gz (981 kB)\n",
            "\u001b[2K     \u001b[90m━━━━━━━━━━━━━━━━━━━━━━━━━━━━━━━━━━━━━━━━\u001b[0m \u001b[32m981.5/981.5 kB\u001b[0m \u001b[31m23.4 MB/s\u001b[0m eta \u001b[36m0:00:00\u001b[0m\n",
            "\u001b[?25h  Preparing metadata (setup.py) ... \u001b[?25l\u001b[?25hdone\n",
            "Collecting rapidfuzz (from unstructured)\n",
            "  Downloading rapidfuzz-3.10.1-cp310-cp310-manylinux_2_17_x86_64.manylinux2014_x86_64.whl.metadata (11 kB)\n",
            "Collecting backoff (from unstructured)\n",
            "  Downloading backoff-2.2.1-py3-none-any.whl.metadata (14 kB)\n",
            "Requirement already satisfied: typing-extensions in /usr/local/lib/python3.10/dist-packages (from unstructured) (4.12.2)\n",
            "Collecting unstructured-client (from unstructured)\n",
            "  Downloading unstructured_client-0.27.0-py3-none-any.whl.metadata (20 kB)\n",
            "Requirement already satisfied: wrapt in /usr/local/lib/python3.10/dist-packages (from unstructured) (1.16.0)\n",
            "Requirement already satisfied: tqdm in /usr/local/lib/python3.10/dist-packages (from unstructured) (4.66.6)\n",
            "Requirement already satisfied: psutil in /usr/local/lib/python3.10/dist-packages (from unstructured) (5.9.5)\n",
            "Collecting python-oxmsg (from unstructured)\n",
            "  Downloading python_oxmsg-0.0.1-py3-none-any.whl.metadata (5.0 kB)\n",
            "Requirement already satisfied: html5lib in /usr/local/lib/python3.10/dist-packages (from unstructured) (1.1)\n",
            "Requirement already satisfied: aiohappyeyeballs>=2.3.0 in /usr/local/lib/python3.10/dist-packages (from aiohttp<4.0.0,>=3.8.3->langchain==0.0.195) (2.4.3)\n",
            "Requirement already satisfied: aiosignal>=1.1.2 in /usr/local/lib/python3.10/dist-packages (from aiohttp<4.0.0,>=3.8.3->langchain==0.0.195) (1.3.1)\n",
            "Requirement already satisfied: attrs>=17.3.0 in /usr/local/lib/python3.10/dist-packages (from aiohttp<4.0.0,>=3.8.3->langchain==0.0.195) (24.2.0)\n",
            "Requirement already satisfied: frozenlist>=1.1.1 in /usr/local/lib/python3.10/dist-packages (from aiohttp<4.0.0,>=3.8.3->langchain==0.0.195) (1.5.0)\n",
            "Requirement already satisfied: multidict<7.0,>=4.5 in /usr/local/lib/python3.10/dist-packages (from aiohttp<4.0.0,>=3.8.3->langchain==0.0.195) (6.1.0)\n",
            "Requirement already satisfied: yarl<2.0,>=1.12.0 in /usr/local/lib/python3.10/dist-packages (from aiohttp<4.0.0,>=3.8.3->langchain==0.0.195) (1.17.0)\n",
            "Collecting marshmallow<4.0.0,>=3.18.0 (from dataclasses-json<0.6.0,>=0.5.7->langchain==0.0.195)\n",
            "  Downloading marshmallow-3.23.1-py3-none-any.whl.metadata (7.5 kB)\n",
            "Collecting typing-inspect<1,>=0.4.0 (from dataclasses-json<0.6.0,>=0.5.7->langchain==0.0.195)\n",
            "  Downloading typing_inspect-0.9.0-py3-none-any.whl.metadata (1.5 kB)\n",
            "Requirement already satisfied: charset-normalizer<4,>=2 in /usr/local/lib/python3.10/dist-packages (from requests<3,>=2->langchain==0.0.195) (3.4.0)\n",
            "Requirement already satisfied: idna<4,>=2.5 in /usr/local/lib/python3.10/dist-packages (from requests<3,>=2->langchain==0.0.195) (3.10)\n",
            "Requirement already satisfied: urllib3<3,>=1.21.1 in /usr/local/lib/python3.10/dist-packages (from requests<3,>=2->langchain==0.0.195) (2.2.3)\n",
            "Requirement already satisfied: certifi>=2017.4.17 in /usr/local/lib/python3.10/dist-packages (from requests<3,>=2->langchain==0.0.195) (2024.8.30)\n",
            "Requirement already satisfied: greenlet!=0.4.17 in /usr/local/lib/python3.10/dist-packages (from SQLAlchemy<3,>=1.4->langchain==0.0.195) (3.1.1)\n",
            "Requirement already satisfied: soupsieve>1.2 in /usr/local/lib/python3.10/dist-packages (from beautifulsoup4->unstructured) (2.6)\n",
            "Requirement already satisfied: six>=1.9 in /usr/local/lib/python3.10/dist-packages (from html5lib->unstructured) (1.16.0)\n",
            "Requirement already satisfied: webencodings in /usr/local/lib/python3.10/dist-packages (from html5lib->unstructured) (0.5.1)\n",
            "Requirement already satisfied: click in /usr/local/lib/python3.10/dist-packages (from nltk->unstructured) (8.1.7)\n",
            "Requirement already satisfied: joblib in /usr/local/lib/python3.10/dist-packages (from nltk->unstructured) (1.4.2)\n",
            "Requirement already satisfied: regex>=2021.8.3 in /usr/local/lib/python3.10/dist-packages (from nltk->unstructured) (2024.9.11)\n",
            "Collecting olefile (from python-oxmsg->unstructured)\n",
            "  Downloading olefile-0.47-py2.py3-none-any.whl.metadata (9.7 kB)\n",
            "Requirement already satisfied: cryptography>=3.1 in /usr/local/lib/python3.10/dist-packages (from unstructured-client->unstructured) (43.0.3)\n",
            "Requirement already satisfied: eval-type-backport<0.3.0,>=0.2.0 in /usr/local/lib/python3.10/dist-packages (from unstructured-client->unstructured) (0.2.0)\n",
            "Requirement already satisfied: httpx>=0.27.0 in /usr/local/lib/python3.10/dist-packages (from unstructured-client->unstructured) (0.27.2)\n",
            "Collecting jsonpath-python<2.0.0,>=1.0.6 (from unstructured-client->unstructured)\n",
            "  Downloading jsonpath_python-1.0.6-py3-none-any.whl.metadata (12 kB)\n",
            "Requirement already satisfied: nest-asyncio>=1.6.0 in /usr/local/lib/python3.10/dist-packages (from unstructured-client->unstructured) (1.6.0)\n",
            "INFO: pip is looking at multiple versions of unstructured-client to determine which version is compatible with other requirements. This could take a while.\n",
            "Collecting unstructured-client (from unstructured)\n",
            "  Downloading unstructured_client-0.26.2-py3-none-any.whl.metadata (20 kB)\n",
            "  Downloading unstructured_client-0.26.1-py3-none-any.whl.metadata (20 kB)\n",
            "  Downloading unstructured_client-0.26.0-py3-none-any.whl.metadata (20 kB)\n",
            "  Downloading unstructured_client-0.25.9-py3-none-any.whl.metadata (15 kB)\n",
            "  Downloading unstructured_client-0.25.8-py3-none-any.whl.metadata (15 kB)\n",
            "  Downloading unstructured_client-0.25.7-py3-none-any.whl.metadata (15 kB)\n",
            "  Downloading unstructured_client-0.25.6-py3-none-any.whl.metadata (15 kB)\n",
            "INFO: pip is still looking at multiple versions of unstructured-client to determine which version is compatible with other requirements. This could take a while.\n",
            "  Downloading unstructured_client-0.25.5-py3-none-any.whl.metadata (13 kB)\n",
            "  Downloading unstructured_client-0.25.4-py3-none-any.whl.metadata (13 kB)\n",
            "  Downloading unstructured_client-0.25.3-py3-none-any.whl.metadata (13 kB)\n",
            "  Downloading unstructured_client-0.25.2-py3-none-any.whl.metadata (13 kB)\n",
            "  Downloading unstructured_client-0.25.1-py3-none-any.whl.metadata (13 kB)\n",
            "INFO: This is taking longer than usual. You might need to provide the dependency resolver with stricter constraints to reduce runtime. See https://pip.pypa.io/warnings/backtracking for guidance. If you want to abort this run, press Ctrl + C.\n",
            "  Downloading unstructured_client-0.25.0-py3-none-any.whl.metadata (13 kB)\n",
            "  Downloading unstructured_client-0.24.1-py3-none-any.whl.metadata (12 kB)\n",
            "  Downloading unstructured_client-0.24.0-py3-none-any.whl.metadata (12 kB)\n",
            "  Downloading unstructured_client-0.23.9-py3-none-any.whl.metadata (12 kB)\n",
            "  Downloading unstructured_client-0.23.8-py3-none-any.whl.metadata (12 kB)\n",
            "  Downloading unstructured_client-0.23.7-py3-none-any.whl.metadata (12 kB)\n",
            "  Downloading unstructured_client-0.23.5-py3-none-any.whl.metadata (12 kB)\n",
            "  Downloading unstructured_client-0.23.3-py3-none-any.whl.metadata (12 kB)\n",
            "  Downloading unstructured_client-0.23.2-py3-none-any.whl.metadata (12 kB)\n",
            "  Downloading unstructured_client-0.23.1-py3-none-any.whl.metadata (11 kB)\n",
            "  Downloading unstructured_client-0.23.0-py3-none-any.whl.metadata (11 kB)\n",
            "  Downloading unstructured_client-0.22.0-py3-none-any.whl.metadata (7.3 kB)\n",
            "  Downloading unstructured_client-0.21.1-py3-none-any.whl.metadata (7.3 kB)\n",
            "  Downloading unstructured_client-0.21.0-py3-none-any.whl.metadata (5.0 kB)\n",
            "  Downloading unstructured_client-0.18.0-py3-none-any.whl.metadata (4.9 kB)\n",
            "Collecting dataclasses-json-speakeasy>=0.5.11 (from unstructured-client->unstructured)\n",
            "  Downloading dataclasses_json_speakeasy-0.5.11-py3-none-any.whl.metadata (25 kB)\n",
            "Collecting mypy-extensions>=1.0.0 (from unstructured-client->unstructured)\n",
            "  Downloading mypy_extensions-1.0.0-py3-none-any.whl.metadata (1.1 kB)\n",
            "Requirement already satisfied: packaging>=23.1 in /usr/local/lib/python3.10/dist-packages (from unstructured-client->unstructured) (24.1)\n",
            "Requirement already satisfied: python-dateutil>=2.8.2 in /usr/local/lib/python3.10/dist-packages (from unstructured-client->unstructured) (2.8.2)\n",
            "Requirement already satisfied: propcache>=0.2.0 in /usr/local/lib/python3.10/dist-packages (from yarl<2.0,>=1.12.0->aiohttp<4.0.0,>=3.8.3->langchain==0.0.195) (0.2.0)\n",
            "Downloading langchain-0.0.195-py3-none-any.whl (1.0 MB)\n",
            "\u001b[2K   \u001b[90m━━━━━━━━━━━━━━━━━━━━━━━━━━━━━━━━━━━━━━━━\u001b[0m \u001b[32m1.0/1.0 MB\u001b[0m \u001b[31m44.5 MB/s\u001b[0m eta \u001b[36m0:00:00\u001b[0m\n",
            "\u001b[?25hDownloading unstructured-0.16.4-py3-none-any.whl (1.7 MB)\n",
            "\u001b[2K   \u001b[90m━━━━━━━━━━━━━━━━━━━━━━━━━━━━━━━━━━━━━━━━\u001b[0m \u001b[32m1.7/1.7 MB\u001b[0m \u001b[31m21.4 MB/s\u001b[0m eta \u001b[36m0:00:00\u001b[0m\n",
            "\u001b[?25hDownloading dataclasses_json-0.5.14-py3-none-any.whl (26 kB)\n",
            "Downloading langchainplus_sdk-0.0.20-py3-none-any.whl (25 kB)\n",
            "Downloading openapi_schema_pydantic-1.2.4-py3-none-any.whl (90 kB)\n",
            "\u001b[2K   \u001b[90m━━━━━━━━━━━━━━━━━━━━━━━━━━━━━━━━━━━━━━━━\u001b[0m \u001b[32m90.0/90.0 kB\u001b[0m \u001b[31m6.8 MB/s\u001b[0m eta \u001b[36m0:00:00\u001b[0m\n",
            "\u001b[?25hDownloading pydantic-1.10.18-cp310-cp310-manylinux_2_17_x86_64.manylinux2014_x86_64.whl (3.1 MB)\n",
            "\u001b[2K   \u001b[90m━━━━━━━━━━━━━━━━━━━━━━━━━━━━━━━━━━━━━━━━\u001b[0m \u001b[32m3.1/3.1 MB\u001b[0m \u001b[31m74.4 MB/s\u001b[0m eta \u001b[36m0:00:00\u001b[0m\n",
            "\u001b[?25hDownloading tenacity-8.5.0-py3-none-any.whl (28 kB)\n",
            "Downloading backoff-2.2.1-py3-none-any.whl (15 kB)\n",
            "Downloading emoji-2.14.0-py3-none-any.whl (586 kB)\n",
            "\u001b[2K   \u001b[90m━━━━━━━━━━━━━━━━━━━━━━━━━━━━━━━━━━━━━━━━\u001b[0m \u001b[32m586.9/586.9 kB\u001b[0m \u001b[31m27.0 MB/s\u001b[0m eta \u001b[36m0:00:00\u001b[0m\n",
            "\u001b[?25hDownloading filetype-1.2.0-py2.py3-none-any.whl (19 kB)\n",
            "Downloading python_iso639-2024.10.22-py3-none-any.whl (274 kB)\n",
            "\u001b[2K   \u001b[90m━━━━━━━━━━━━━━━━━━━━━━━━━━━━━━━━━━━━━━━━\u001b[0m \u001b[32m274.9/274.9 kB\u001b[0m \u001b[31m18.5 MB/s\u001b[0m eta \u001b[36m0:00:00\u001b[0m\n",
            "\u001b[?25hDownloading python_magic-0.4.27-py2.py3-none-any.whl (13 kB)\n",
            "Downloading python_oxmsg-0.0.1-py3-none-any.whl (31 kB)\n",
            "Downloading rapidfuzz-3.10.1-cp310-cp310-manylinux_2_17_x86_64.manylinux2014_x86_64.whl (3.1 MB)\n",
            "\u001b[2K   \u001b[90m━━━━━━━━━━━━━━━━━━━━━━━━━━━━━━━━━━━━━━━━\u001b[0m \u001b[32m3.1/3.1 MB\u001b[0m \u001b[31m73.1 MB/s\u001b[0m eta \u001b[36m0:00:00\u001b[0m\n",
            "\u001b[?25hDownloading unstructured_client-0.18.0-py3-none-any.whl (21 kB)\n",
            "Downloading dataclasses_json_speakeasy-0.5.11-py3-none-any.whl (28 kB)\n",
            "Downloading jsonpath_python-1.0.6-py3-none-any.whl (7.6 kB)\n",
            "Downloading marshmallow-3.23.1-py3-none-any.whl (49 kB)\n",
            "\u001b[2K   \u001b[90m━━━━━━━━━━━━━━━━━━━━━━━━━━━━━━━━━━━━━━━━\u001b[0m \u001b[32m49.5/49.5 kB\u001b[0m \u001b[31m3.5 MB/s\u001b[0m eta \u001b[36m0:00:00\u001b[0m\n",
            "\u001b[?25hDownloading mypy_extensions-1.0.0-py3-none-any.whl (4.7 kB)\n",
            "Downloading typing_inspect-0.9.0-py3-none-any.whl (8.8 kB)\n",
            "Downloading olefile-0.47-py2.py3-none-any.whl (114 kB)\n",
            "\u001b[2K   \u001b[90m━━━━━━━━━━━━━━━━━━━━━━━━━━━━━━━━━━━━━━━━\u001b[0m \u001b[32m114.6/114.6 kB\u001b[0m \u001b[31m7.7 MB/s\u001b[0m eta \u001b[36m0:00:00\u001b[0m\n",
            "\u001b[?25hBuilding wheels for collected packages: langdetect\n",
            "  Building wheel for langdetect (setup.py) ... \u001b[?25l\u001b[?25hdone\n",
            "  Created wheel for langdetect: filename=langdetect-1.0.9-py3-none-any.whl size=993222 sha256=46749dcc145ea41bbfebf2ae8bfdc16df7073c7da0837347456ccf469e7b6209\n",
            "  Stored in directory: /root/.cache/pip/wheels/95/03/7d/59ea870c70ce4e5a370638b5462a7711ab78fba2f655d05106\n",
            "Successfully built langdetect\n",
            "Installing collected packages: filetype, tenacity, rapidfuzz, python-magic, python-iso639, pydantic, olefile, mypy-extensions, marshmallow, langdetect, jsonpath-python, emoji, backoff, typing-inspect, python-oxmsg, openapi-schema-pydantic, langchainplus-sdk, dataclasses-json-speakeasy, dataclasses-json, unstructured-client, langchain, unstructured\n",
            "  Attempting uninstall: tenacity\n",
            "    Found existing installation: tenacity 9.0.0\n",
            "    Uninstalling tenacity-9.0.0:\n",
            "      Successfully uninstalled tenacity-9.0.0\n",
            "  Attempting uninstall: pydantic\n",
            "    Found existing installation: pydantic 2.9.2\n",
            "    Uninstalling pydantic-2.9.2:\n",
            "      Successfully uninstalled pydantic-2.9.2\n",
            "  Attempting uninstall: langchain\n",
            "    Found existing installation: langchain 0.3.4\n",
            "    Uninstalling langchain-0.3.4:\n",
            "      Successfully uninstalled langchain-0.3.4\n",
            "\u001b[31mERROR: pip's dependency resolver does not currently take into account all the packages that are installed. This behaviour is the source of the following dependency conflicts.\n",
            "albumentations 1.4.20 requires pydantic>=2.7.0, but you have pydantic 1.10.18 which is incompatible.\n",
            "langchain-core 0.3.13 requires pydantic<3.0.0,>=2.5.2; python_full_version < \"3.12.4\", but you have pydantic 1.10.18 which is incompatible.\u001b[0m\u001b[31m\n",
            "\u001b[0mSuccessfully installed backoff-2.2.1 dataclasses-json-0.5.14 dataclasses-json-speakeasy-0.5.11 emoji-2.14.0 filetype-1.2.0 jsonpath-python-1.0.6 langchain-0.0.195 langchainplus-sdk-0.0.20 langdetect-1.0.9 marshmallow-3.23.1 mypy-extensions-1.0.0 olefile-0.47 openapi-schema-pydantic-1.2.4 pydantic-1.10.18 python-iso639-2024.10.22 python-magic-0.4.27 python-oxmsg-0.0.1 rapidfuzz-3.10.1 tenacity-8.5.0 typing-inspect-0.9.0 unstructured-0.16.4 unstructured-client-0.18.0\n"
          ]
        }
      ]
    },
    {
      "cell_type": "code",
      "source": [
        "!pip install PyPDF2\n"
      ],
      "metadata": {
        "colab": {
          "base_uri": "https://localhost:8080/"
        },
        "id": "TgWMUTZOvUiH",
        "outputId": "0b959f7f-ed63-4197-ad0b-2cb4d1e97912"
      },
      "execution_count": null,
      "outputs": [
        {
          "output_type": "stream",
          "name": "stdout",
          "text": [
            "Collecting PyPDF2\n",
            "  Downloading pypdf2-3.0.1-py3-none-any.whl.metadata (6.8 kB)\n",
            "Downloading pypdf2-3.0.1-py3-none-any.whl (232 kB)\n",
            "\u001b[2K   \u001b[90m━━━━━━━━━━━━━━━━━━━━━━━━━━━━━━━━━━━━━━━━\u001b[0m \u001b[32m232.6/232.6 kB\u001b[0m \u001b[31m3.8 MB/s\u001b[0m eta \u001b[36m0:00:00\u001b[0m\n",
            "\u001b[?25hInstalling collected packages: PyPDF2\n",
            "Successfully installed PyPDF2-3.0.1\n"
          ]
        }
      ]
    },
    {
      "cell_type": "code",
      "source": [
        "!pip install pypdf"
      ],
      "metadata": {
        "colab": {
          "base_uri": "https://localhost:8080/"
        },
        "id": "tE_gDm4mw6i-",
        "outputId": "10654dd6-1ea8-4d6b-ec69-a5fae40e1b43"
      },
      "execution_count": null,
      "outputs": [
        {
          "output_type": "stream",
          "name": "stdout",
          "text": [
            "Collecting pypdf\n",
            "  Downloading pypdf-5.1.0-py3-none-any.whl.metadata (7.2 kB)\n",
            "Requirement already satisfied: typing_extensions>=4.0 in /usr/local/lib/python3.10/dist-packages (from pypdf) (4.12.2)\n",
            "Downloading pypdf-5.1.0-py3-none-any.whl (297 kB)\n",
            "\u001b[2K   \u001b[90m━━━━━━━━━━━━━━━━━━━━━━━━━━━━━━━━━━━━━━━━\u001b[0m \u001b[32m298.0/298.0 kB\u001b[0m \u001b[31m4.4 MB/s\u001b[0m eta \u001b[36m0:00:00\u001b[0m\n",
            "\u001b[?25hInstalling collected packages: pypdf\n",
            "Successfully installed pypdf-5.1.0\n"
          ]
        }
      ]
    },
    {
      "cell_type": "markdown",
      "source": [
        "## Import Libraries\n",
        "\n",
        "\n"
      ],
      "metadata": {
        "id": "2hkYzF8ln2-M"
      }
    },
    {
      "cell_type": "code",
      "source": [
        "import os\n",
        "import nltk\n",
        "nltk.download('punkt')\n",
        "\n",
        "from langchain import Cohere\n",
        "from langchain.chains import RetrievalQA\n",
        "from langchain.document_loaders import DirectoryLoader\n",
        "from langchain.embeddings import CohereEmbeddings\n",
        "from langchain.text_splitter import CharacterTextSplitter, RecursiveCharacterTextSplitter\n",
        "from langchain.vectorstores import Chroma\n"
      ],
      "metadata": {
        "id": "14Qxrc0lr6Zi",
        "colab": {
          "base_uri": "https://localhost:8080/",
          "height": 540
        },
        "outputId": "b59a2924-5ea0-4ed9-a1f2-350227a2c136"
      },
      "execution_count": null,
      "outputs": [
        {
          "output_type": "stream",
          "name": "stderr",
          "text": [
            "[nltk_data] Downloading package punkt to /root/nltk_data...\n",
            "[nltk_data]   Unzipping tokenizers/punkt.zip.\n"
          ]
        },
        {
          "output_type": "error",
          "ename": "ModuleNotFoundError",
          "evalue": "No module named 'langchain_community'",
          "traceback": [
            "\u001b[0;31m---------------------------------------------------------------------------\u001b[0m",
            "\u001b[0;31mModuleNotFoundError\u001b[0m                       Traceback (most recent call last)",
            "\u001b[0;32m<ipython-input-1-ccf0dffa8cbb>\u001b[0m in \u001b[0;36m<cell line: 5>\u001b[0;34m()\u001b[0m\n\u001b[1;32m      3\u001b[0m \u001b[0mnltk\u001b[0m\u001b[0;34m.\u001b[0m\u001b[0mdownload\u001b[0m\u001b[0;34m(\u001b[0m\u001b[0;34m'punkt'\u001b[0m\u001b[0;34m)\u001b[0m\u001b[0;34m\u001b[0m\u001b[0;34m\u001b[0m\u001b[0m\n\u001b[1;32m      4\u001b[0m \u001b[0;34m\u001b[0m\u001b[0m\n\u001b[0;32m----> 5\u001b[0;31m \u001b[0;32mfrom\u001b[0m \u001b[0mlangchain\u001b[0m \u001b[0;32mimport\u001b[0m \u001b[0mCohere\u001b[0m\u001b[0;34m\u001b[0m\u001b[0;34m\u001b[0m\u001b[0m\n\u001b[0m\u001b[1;32m      6\u001b[0m \u001b[0;32mfrom\u001b[0m \u001b[0mlangchain\u001b[0m\u001b[0;34m.\u001b[0m\u001b[0mchains\u001b[0m \u001b[0;32mimport\u001b[0m \u001b[0mRetrievalQA\u001b[0m\u001b[0;34m\u001b[0m\u001b[0;34m\u001b[0m\u001b[0m\n\u001b[1;32m      7\u001b[0m \u001b[0;32mfrom\u001b[0m \u001b[0mlangchain\u001b[0m\u001b[0;34m.\u001b[0m\u001b[0mdocument_loaders\u001b[0m \u001b[0;32mimport\u001b[0m \u001b[0mDirectoryLoader\u001b[0m\u001b[0;34m\u001b[0m\u001b[0;34m\u001b[0m\u001b[0m\n",
            "\u001b[0;32m/usr/local/lib/python3.10/dist-packages/langchain/__init__.py\u001b[0m in \u001b[0;36m__getattr__\u001b[0;34m(name)\u001b[0m\n\u001b[1;32m    144\u001b[0m         \u001b[0;32mreturn\u001b[0m \u001b[0mCerebriumAI\u001b[0m\u001b[0;34m\u001b[0m\u001b[0;34m\u001b[0m\u001b[0m\n\u001b[1;32m    145\u001b[0m     \u001b[0;32melif\u001b[0m \u001b[0mname\u001b[0m \u001b[0;34m==\u001b[0m \u001b[0;34m\"Cohere\"\u001b[0m\u001b[0;34m:\u001b[0m\u001b[0;34m\u001b[0m\u001b[0;34m\u001b[0m\u001b[0m\n\u001b[0;32m--> 146\u001b[0;31m         \u001b[0;32mfrom\u001b[0m \u001b[0mlangchain_community\u001b[0m\u001b[0;34m.\u001b[0m\u001b[0mllms\u001b[0m \u001b[0;32mimport\u001b[0m \u001b[0mCohere\u001b[0m\u001b[0;34m\u001b[0m\u001b[0;34m\u001b[0m\u001b[0m\n\u001b[0m\u001b[1;32m    147\u001b[0m \u001b[0;34m\u001b[0m\u001b[0m\n\u001b[1;32m    148\u001b[0m         \u001b[0m_warn_on_import\u001b[0m\u001b[0;34m(\u001b[0m\u001b[0mname\u001b[0m\u001b[0;34m,\u001b[0m \u001b[0mreplacement\u001b[0m\u001b[0;34m=\u001b[0m\u001b[0;34m\"langchain_community.llms.Cohere\"\u001b[0m\u001b[0;34m)\u001b[0m\u001b[0;34m\u001b[0m\u001b[0;34m\u001b[0m\u001b[0m\n",
            "\u001b[0;31mModuleNotFoundError\u001b[0m: No module named 'langchain_community'",
            "",
            "\u001b[0;31m---------------------------------------------------------------------------\u001b[0;32m\nNOTE: If your import is failing due to a missing package, you can\nmanually install dependencies using either !pip or !apt.\n\nTo view examples of installing some common dependencies, click the\n\"Open Examples\" button below.\n\u001b[0;31m---------------------------------------------------------------------------\u001b[0m\n"
          ],
          "errorDetails": {
            "actions": [
              {
                "action": "open_url",
                "actionText": "Open Examples",
                "url": "/notebooks/snippets/importing_libraries.ipynb"
              }
            ]
          }
        }
      ]
    },
    {
      "cell_type": "code",
      "source": [
        "# fixes nltk path issue on colab\n",
        "!cp -R ~/nltk_data/tokenizers/punkt/PY3 ~/nltk_data/tokenizers/punkt/PY3_tab"
      ],
      "metadata": {
        "id": "n1HZS5ULNcrx"
      },
      "execution_count": null,
      "outputs": []
    },
    {
      "cell_type": "markdown",
      "source": [
        "## Setup\n",
        "\n",
        "Before running the next cell, make sure you have a [Cohere API key](https://dashboard.cohere.ai/api-keys). Enter your API key using getpass in the cell below.\n"
      ],
      "metadata": {
        "id": "DQUHatikkA9o"
      }
    },
    {
      "cell_type": "code",
      "source": [
        "from getpass import getpass\n",
        "api_key = getpass()\n",
        "os.environ[\"COHERE_API_KEY\"] = api_key"
      ],
      "metadata": {
        "id": "BHJRobJMsllM",
        "colab": {
          "base_uri": "https://localhost:8080/"
        },
        "outputId": "fa64582b-7ac4-4640-98fa-e88719b3b1ee"
      },
      "execution_count": null,
      "outputs": [
        {
          "name": "stdout",
          "output_type": "stream",
          "text": [
            "··········\n"
          ]
        }
      ]
    },
    {
      "cell_type": "code",
      "source": [
        "!curl -o bhagavad-gita.pdf https://www.gita-society.com/bhagavad-gita-in-english-source-file.pdf"
      ],
      "metadata": {
        "colab": {
          "base_uri": "https://localhost:8080/"
        },
        "id": "2xsbNccavfAR",
        "outputId": "8cb46248-d388-4193-b843-bdbc4bdb9dfb"
      },
      "execution_count": null,
      "outputs": [
        {
          "output_type": "stream",
          "name": "stdout",
          "text": [
            "  % Total    % Received % Xferd  Average Speed   Time    Time     Time  Current\n",
            "                                 Dload  Upload   Total   Spent    Left  Speed\n",
            "100  527k  100  527k    0     0  1299k      0 --:--:-- --:--:-- --:--:-- 1299k\n"
          ]
        }
      ]
    },
    {
      "cell_type": "code",
      "source": [
        "#!curl -o /content/documents/quantumcomputers.txt https://raw.githubusercontent.com/Thinkful-Ed/ai-in-web-dev-resources/refs/heads/main/books/quantumcomputers.txt --create-dirs"
      ],
      "metadata": {
        "id": "tmJ_Kxo3Km2I",
        "colab": {
          "base_uri": "https://localhost:8080/"
        },
        "outputId": "0c4cdf90-0d9b-43aa-ad31-d1669a08ef0d"
      },
      "execution_count": null,
      "outputs": [
        {
          "output_type": "stream",
          "name": "stdout",
          "text": [
            "  % Total    % Received % Xferd  Average Speed   Time    Time     Time  Current\n",
            "                                 Dload  Upload   Total   Spent    Left  Speed\n",
            "100  115k  100  115k    0     0   449k      0 --:--:-- --:--:-- --:--:--  449k\n"
          ]
        }
      ]
    },
    {
      "cell_type": "markdown",
      "source": [
        "## Load the documents\n",
        "\n",
        "The [DirectoryLoader](https://js.langchain.com/docs/api/document_loaders_fs_directory/classes/DirectoryLoader) class will allow you to load multiple documents that are in a directory. Create a directory by clicking in the folder icon at the left and upload your text documents there. If you want to use another format, such as `md` files, make sure to change the `glob=\"**/*.txt\"` variable and read the documentation to make sure that the file type is supported.\n",
        "\n",
        "**Note:** Cohere is now imposing a limit on embeddings. If you get an error try a smaller text (like a wikipedia article)."
      ],
      "metadata": {
        "id": "qi3qxMtLilDf"
      }
    },
    {
      "cell_type": "code",
      "source": [
        "#/content/BhagavadGita.pdf\n",
        "from langchain.document_loaders import DirectoryLoader, PyPDFLoader\n",
        "\n",
        "# Configure the loader to load PDF files from the specified directory\n",
        "pdf_loader = DirectoryLoader('/content/', glob=\"**/*.pdf\", loader_cls=PyPDFLoader)\n",
        "\n",
        "# Load the PDF documents\n",
        "pdf_documents = pdf_loader.load()\n",
        "\n",
        "# View the loaded documents\n",
        "#print(f\"Loaded {len(pdf_documents)} PDF documents.\")\n",
        "##   print(document.page_content)  # This prints the content of each PDF file\n"
      ],
      "metadata": {
        "id": "w8vI2Zzhwkc2"
      },
      "execution_count": null,
      "outputs": []
    },
    {
      "cell_type": "code",
      "source": [
        "  #loader = DirectoryLoader('/content/documents', glob=\"**/*.txt\")\n",
        "\n",
        " # import all txt files in the documents folder\n",
        "#documents = loader.load()\n",
        "#print (f'You have {len(documents)} document(s) in your documents folder')"
      ],
      "metadata": {
        "id": "yAeFhayesISS"
      },
      "execution_count": null,
      "outputs": []
    },
    {
      "cell_type": "markdown",
      "source": [
        "## Splitting Text\n",
        "\n",
        "Splitting text is useful because when you have a long document, it can be difficult to find the specific information relevant to a question. The `CharacterTextSplitter` helps break down the text into smaller, more manageable chunks."
      ],
      "metadata": {
        "id": "JcMkq1CmTzb6"
      }
    },
    {
      "cell_type": "code",
      "source": [
        "#text_splitter = CharacterTextSplitter(chunk_size=1500)\n",
        "text_splitter = RecursiveCharacterTextSplitter(chunk_size=3000, chunk_overlap=200)\n",
        "texts = text_splitter.split_documents(pdf_documents)\n",
        "print (f'Your document(s) was/were splitted into {len(texts)} chunks.')"
      ],
      "metadata": {
        "id": "LJz_1t17sg-r",
        "colab": {
          "base_uri": "https://localhost:8080/"
        },
        "outputId": "fb9ddce7-a9ce-46fb-96e1-b50734625635"
      },
      "execution_count": null,
      "outputs": [
        {
          "output_type": "stream",
          "name": "stdout",
          "text": [
            "Your document(s) was/were splitted into 57 chunks.\n"
          ]
        }
      ]
    },
    {
      "cell_type": "code",
      "source": [
        "texts[21]"
      ],
      "metadata": {
        "colab": {
          "base_uri": "https://localhost:8080/"
        },
        "id": "IVehg-k6z0tk",
        "outputId": "67c2608a-021e-441a-e771-67e12201d342"
      },
      "execution_count": null,
      "outputs": [
        {
          "output_type": "execute_result",
          "data": {
            "text/plain": [
              "Document(page_content='16                           International Gita Society \\n \\n \\n6. Path of meditation \\nA Karma-yogi is also a renunciant \\nThe Supreme Lord said: One who performs the prescribed duty \\nwithout seeking its fruit only for personal enjoyment, is a renunciant \\n(Samnyasi) and a Karma-yogi. One does not become Samny asi \\nmerely by not lighting the fire, and one does not become a yogi \\nmerely by abstaining from work. (6.01) O Arjuna, what they call \\nrenunciation (Samnyasa) is also known as Karma-yoga. No one \\nbecomes a Karma-yogi who has not renounced the selfish motive \\nbehind an action. (6.02)  \\nA definition of yoga and yogi \\nFor the wise who seeks to attain yoga of meditation or calm-\\nness of mind, Karma-yoga is said to be the means. For the one \\nwho has attained yoga, the calmness becomes the means of Self-\\nrealization. A person is said to have attained yogic perfection when  \\none has no desire for sensual pleasures or attachment to the fruits \\nof work, and has renounced all selfish motives behind any action. \\n(6.03-04) \\nMind is both a friend and an enemy \\nOne must elevate — and not degrade — oneself by one’s own \\nmind. The mind alone is one’s friend as well as one’s enemy. The \\nmind is the friend of those who have control over it, and the same \\nmind acts like an enemy for those who do not control it. (6.05 -06) \\nOne who has control over the lower self — the mind and senses \\n— is tranquil in heat and cold, in pleasure and pain, and in honor \\nand dishonor, and remains ever steadfast with the supreme Self. \\n(6.07) A person is called yogi who has both Self -knowledge and \\nSelf-realization, who is calm, who has control over the mind and \\nsenses, and to whom a clod, a stone, and gold are the same. (6.08) \\nA person is considered superior who is impartial towards compan-\\nions, friends, enemies, neutrals, arbiters, haters, relative s, saints, \\nand sinners. (6.09)  \\nTechniques of meditation \\nA yogi, seated in solitude and alone, should constantly try to \\ncontemplate the Supreme Being after bringing the mind and \\nsenses under control, and becoming free from desires and propri-\\netorship. (6.10) One should sit on his or her own firm seat that is \\nneither too high nor too low, covered with dry grass, a deerskin, \\nand a cloth, one over the other, in a clean spot. Sitting there in a \\ncomfortable position and concentrating the mind on God, control-\\nling the thoughts and the activities of the senses, one should prac-\\ntice meditation for self -purification. (6.11 -12) One should sit by \\nholding the waist, spine, chest, neck, and head erect, motionless \\nand steady; fix the eyes and the mind steadily in front of th e nos-\\ntrils, without looking around; make your mind serene and fearless; \\npractice celibacy; have the mind under control; think of Me; and', metadata={'source': '/content/bhagavad-gita.pdf', 'page': 19})"
            ]
          },
          "metadata": {},
          "execution_count": 12
        }
      ]
    },
    {
      "cell_type": "markdown",
      "source": [
        "## Embeddings and RetrievalQA\n",
        "\n",
        "In simple terms, this code sets up the necessary tools for question-answering. It converts text into numerical representations called embeddings, creates a search index for the documents, and sets up a retrieval-based question-answering system using a specific type of chain (RetrievalQA).\n"
      ],
      "metadata": {
        "id": "LJZknsLuUWPd"
      }
    },
    {
      "cell_type": "code",
      "source": [
        "embeddings = CohereEmbeddings(cohere_api_key=os.getenv(\"COHERE_API_KEY\"))\n",
        "docsearch = Chroma.from_documents(texts, embeddings, persist_directory = 'db')\n",
        "docsearch.persist() # save db\n",
        "qa = RetrievalQA.from_chain_type(llm=Cohere(), retriever=docsearch.as_retriever(), return_source_documents=True)"
      ],
      "metadata": {
        "id": "h3DNSPKXuDL8"
      },
      "execution_count": null,
      "outputs": []
    },
    {
      "cell_type": "code",
      "source": [
        "query = \"what is karma?\"\n",
        "result = qa({\"query\": query})\n",
        "result['result']"
      ],
      "metadata": {
        "colab": {
          "base_uri": "https://localhost:8080/",
          "height": 122
        },
        "id": "DFdEthlLxD3F",
        "outputId": "ae34e2be-7538-45e4-ad28-e88e6fd344be"
      },
      "execution_count": null,
      "outputs": [
        {
          "output_type": "stream",
          "name": "stderr",
          "text": [
            "unknown field: parameter model is not a valid field\n"
          ]
        },
        {
          "output_type": "execute_result",
          "data": {
            "text/plain": [
              "\" Karma is the eternal justice and the eternal law that one has control over their respective duty, but no control or claim over the results.  The fruits of work should not be one's only motive and they should never be inactive. One must learn to gladly endure all that fate imposes by taking refuge in God and following His commandments.  As a result of the working of eternal justice, there can be no escape from the consequences of our deeds. We become the product of our own past thinking and action. \\nTherefore, we must think and act wisely at the present moment, using the scriptures as a guide.  \""
            ],
            "application/vnd.google.colaboratory.intrinsic+json": {
              "type": "string"
            }
          },
          "metadata": {},
          "execution_count": 14
        }
      ]
    },
    {
      "cell_type": "code",
      "source": [
        "result['source_documents']"
      ],
      "metadata": {
        "colab": {
          "base_uri": "https://localhost:8080/"
        },
        "id": "KPJ1hZ-nxD5u",
        "outputId": "d73dbb75-b5f4-405c-e4d1-8f80d77be220"
      },
      "execution_count": null,
      "outputs": [
        {
          "output_type": "execute_result",
          "data": {
            "text/plain": [
              "[Document(page_content='46                           International Gita Society \\n \\n \\nIf due to ego you think: I shall not fight, your resolve is vain. \\nBecause your own nature will compel you to fig ht. (18.59) O Ar-\\njuna, you are controlled by your own nature -born Karmic impres-\\nsions (or Samskara). Therefore, you shall do — even against your \\nwill — what you do not wish to do out of delusion. (18.60) The Su-\\npreme Lord, Krishna or God, abiding as the controller in the inner \\npsyche of all beings, O Arjuna, causes them to evolve — or work \\nout their Karma — like a puppet of Karma, mounted on a machine. \\n(18.61)  \\n  The Supreme Controller is the reflection of the Supreme \\nSpirit in the body. The Supreme Lord organizes, controls, \\nsupervises, and directs everything in the universe. Human being is \\nlike a puppet of Karma mounted on a body which is the vehicle of \\ntransmigration. The word evolve refers to working out one’s Karma. \\nThus we become the puppet of our own Karma created by our free \\nwill.  \\n The Lord has made Karmic laws as the controller of all \\nliving beings. Therefore, one must learn to gladly endure all that \\nfate imposes by taking refuge in God and following His \\ncommandments. Vedas declare that the Lord, using His law of \\nKarma, makes us dance as a juggler would make his mon key \\ndance. Without the laws of Karma ; the scriptural in junctions, \\nprohibitions, as well as self-effort, would have no value at all. \\nKarma is the eternal justice and the eternal law. As a result of the \\nworking of eternal justice, there can be no escape from the con -\\nsequences of our deeds. We become the product of our own past \\nthinking and action. Therefore, we must think and act wisely at the \\npresent moment, using the scriptures as a guide.  \\n The doctrine of Karma and reincarnation is also found in \\nthe following two verses of the Koran: Allah is He who created you \\nand then sustained you, then ca uses you to die, then gives life to \\nyou again ( Surah 30.40). He may reward those who believe and \\ndo good works. No one is able to escape His law of consequences \\n(Surah 30.45). People cannot escape from the consequences of \\ntheir deeds, for as we sow, so we reap. Cause and effect cannot \\nbe separated because the effect exists in the cause as the fruit \\nexists in the seed. Good and evil deeds follow us continually like \\nour shadows.  \\n The Bible also says: Whosoever shedeth man’s blood, by \\nman shall his blood be shed (Genesis 9.06). It is believed that all \\nreferences to Karma and reincarnation were taken out of the Bible \\nduring the second century with the noble aim of encouraging \\npeople to strive hard for perfection during this very life. Those who \\nbelieve in reincarnation must avoid laziness and procrastination, \\nstress intense spiritual discipline, and try their best to get Self -', metadata={'source': '/content/bhagavad-gita.pdf', 'page': 49}),\n",
              " Document(page_content='16                           International Gita Society \\n \\n \\n6. Path of meditation \\nA Karma-yogi is also a renunciant \\nThe Supreme Lord said: One who performs the prescribed duty \\nwithout seeking its fruit only for personal enjoyment, is a renunciant \\n(Samnyasi) and a Karma-yogi. One does not become Samny asi \\nmerely by not lighting the fire, and one does not become a yogi \\nmerely by abstaining from work. (6.01) O Arjuna, what they call \\nrenunciation (Samnyasa) is also known as Karma-yoga. No one \\nbecomes a Karma-yogi who has not renounced the selfish motive \\nbehind an action. (6.02)  \\nA definition of yoga and yogi \\nFor the wise who seeks to attain yoga of meditation or calm-\\nness of mind, Karma-yoga is said to be the means. For the one \\nwho has attained yoga, the calmness becomes the means of Self-\\nrealization. A person is said to have attained yogic perfection when  \\none has no desire for sensual pleasures or attachment to the fruits \\nof work, and has renounced all selfish motives behind any action. \\n(6.03-04) \\nMind is both a friend and an enemy \\nOne must elevate — and not degrade — oneself by one’s own \\nmind. The mind alone is one’s friend as well as one’s enemy. The \\nmind is the friend of those who have control over it, and the same \\nmind acts like an enemy for those who do not control it. (6.05 -06) \\nOne who has control over the lower self — the mind and senses \\n— is tranquil in heat and cold, in pleasure and pain, and in honor \\nand dishonor, and remains ever steadfast with the supreme Self. \\n(6.07) A person is called yogi who has both Self -knowledge and \\nSelf-realization, who is calm, who has control over the mind and \\nsenses, and to whom a clod, a stone, and gold are the same. (6.08) \\nA person is considered superior who is impartial towards compan-\\nions, friends, enemies, neutrals, arbiters, haters, relative s, saints, \\nand sinners. (6.09)  \\nTechniques of meditation \\nA yogi, seated in solitude and alone, should constantly try to \\ncontemplate the Supreme Being after bringing the mind and \\nsenses under control, and becoming free from desires and propri-\\netorship. (6.10) One should sit on his or her own firm seat that is \\nneither too high nor too low, covered with dry grass, a deerskin, \\nand a cloth, one over the other, in a clean spot. Sitting there in a \\ncomfortable position and concentrating the mind on God, control-\\nling the thoughts and the activities of the senses, one should prac-\\ntice meditation for self -purification. (6.11 -12) One should sit by \\nholding the waist, spine, chest, neck, and head erect, motionless \\nand steady; fix the eyes and the mind steadily in front of th e nos-\\ntrils, without looking around; make your mind serene and fearless; \\npractice celibacy; have the mind under control; think of Me; and', metadata={'source': '/content/bhagavad-gita.pdf', 'page': 19}),\n",
              " Document(page_content='12                           International Gita Society \\n \\n \\ntheir duties with this understanding. Therefore, you should do your \\nduty as the ancients did. (4.15) \\nAttached, detached, and forbidden action \\nEven the wise ones are confused about what is action and what \\nis inaction. Therefore, I shall clearly explain what is action, knowing \\nthat one shall be liberated from the evil of birth and death. (4.16) \\nThe true nature of action is very difficult to understand. Therefore, \\none should know the nature of attached or selfish action, the nature \\nof detached or selfless action, and also the nature of forbidden ac-\\ntion. (4.17)  \\nA Karma-yogi is not subject  to the Karmic laws \\nThe one who sees inaction in action, and action in inaction, is \\na wise person. Such a person is a yogi and has accomplished eve-\\nrything. (4.18)  \\nTo see inaction in action and vice versa is to understand that \\nthe Lord does all the work indirectly through His power by using us. \\nHe is the inactive actor. We are actively inactive, because we can-\\nnot do anything without the flow of His power. Therefore, we are \\nnot the doer, just an instrument in His hands.  \\nA person, whose desir es have become selfless by being \\nroasted in the fire of Self-knowledge, is called a sage by the wise. \\n(4.19) The one who has abandoned attachment to the fruits of \\nwork, and remains ever content and dependent on no one but God, \\nsuch a person — though engaged in activity — does nothing at all \\nand incurs no Karmic reaction, good or bad. (4.20) The one who is \\nfree from desires, whose mind and senses are under control, and \\nwho has renounced all proprietorship, does not incur sin — the \\nKarmic reaction — by doing bodily action. (4.21) Content with \\nwhatever gain comes naturally by His will, unaffected by pairs of \\nopposites, free from envy, calm in success and failure, though en-\\ngaged in work, such a Karma-yogi is not bound by Karma. (4.22) \\nThe one who is free from attachment, whose mind is fixed in Self-\\nknowledge, who does work as a service (Seva) to the Lord, all Kar-\\nmic bonds of such a philanthropic person ( Karma-yogi) dissolve \\naway. (4.23) God shall be realized by the one who considers eve-\\nrything as a manifestation or an act of God. (Also see 9.16) (4.24)  \\nDifferent types of spiritual practices  \\nSome yogis perform the service of worship to celestial control-\\nlers (Devas, guardian angels), while others study scriptures for \\nSelf-knowledge. Some restrain their senses and give up their sen-\\nsual pleasures. Others perform breathing and other yogic exer-\\ncises. Some give charity and offer their wealth as a sacrifice. (4.25-', metadata={'source': '/content/bhagavad-gita.pdf', 'page': 15}),\n",
              " Document(page_content='6                           International Gita Society \\n \\n \\nservice (Seva), endowed with which you will free yourself from the \\nbondage or reactions of action (Karma). (2.39) In Karma-yoga, no \\neffort is ever lost and there is no adverse effect. Even a little prac-\\ntice of this discipline protects one from the great fear of birth and \\ndeath. (2.40) A Karma-yogi has a resolute determination for God-\\nrealization, O Arjuna, but the desires of one who works to enjoy the \\nfruits of work are endless. (2.41)  \\nMaterial and spiritual aspects of life \\nThe misguided ones who delight in the melodious chanting of \\nthe Vedas or any scripture — without understanding its real pur-\\npose — think, O Arjuna, as if there is nothing else in it except the \\nrituals for the sole purpose of obtaining heavenly enjoyment. (2.42) \\nThey are dominated by material desires and consider the attain-\\nment of heaven as the highest goal of life. They engage in specific \\nrites for the sake of prosperity and enjoyment. Rebirth is the result \\nof their action. (2.43) The resolute determination of Self-realization \\nis not formed in the minds of those who are attached to pleasure \\nand power and whose judgment is obscured by such ritualistic ac-\\ntivities. (2.44) A portion of the Vedas deals with three modes or \\nstates of the material Nature. Become free from pairs of opposites; \\nbe ever balanced and unconcerned with the thoughts of acquisition \\nand preservation. Rise  above the three states, and be Self -con-\\nscious, O Arjuna. (2.45) To a Self -realized person, scriptures are \\nas useful as a small reservoir of water when the water of a huge \\nlake becomes available. (2.46)  \\nTheory and practice of Karma-yoga \\nYou have control over your respective duty only, but no control \\nor claim over the results. The fruits of work should not be your only \\nmotive and you should never be inactive. (2.47) Do your duty to \\nthe best of your ability, O Arjuna, with your mind attached to the \\nLord, abandoning worry and attachment to the results, and remain-\\ning calm in both success and failure. The calmness of mind  is \\ncalled Karma-yoga. (2.48) Work done with selfish motives is infe-\\nrior by far to selfless service or Karma-yoga. Therefore, be a \\nKarma-yogi, O Arjuna. Those who work only to enjoy the fruits of \\ntheir labor are, in truth, unhappy. Because, one has no control over \\nthe results. (2.49)  \\nA true Karma-yogi becomes free from both vice and virtue in \\nthis very life. Therefore, strive for Karma-yoga. Working to the best \\nof one’s abilities without becoming attached to the fruits of work is \\ncalled Karma-yoga. (2.50) Wise Karma-yogis are freed from the \\nbondage of rebirth by renouncing attachment to the fruits of all \\nwork and attain a blissful divine sta te. (2.51) When your intellect \\ncompletely pierces the veil of confusion, then you will become in-\\ndifferent to what has been heard and what is to be heard from the \\nscriptures. (2.52)', metadata={'source': '/content/bhagavad-gita.pdf', 'page': 9})]"
            ]
          },
          "metadata": {},
          "execution_count": 15
        }
      ]
    },
    {
      "cell_type": "code",
      "source": [
        "sources = \"\"\n",
        "for count, source in enumerate(result['source_documents'],1):\n",
        "  sources += \"Source \" + str(count) + \"\\n\"\n",
        "  sources += source.page_content + \"\\n\"\n",
        "\n",
        "print(sources)\n"
      ],
      "metadata": {
        "colab": {
          "base_uri": "https://localhost:8080/"
        },
        "id": "_U9YiNfcxD7t",
        "outputId": "fa09f35c-e55e-42b0-8772-b75d13ed3f9c"
      },
      "execution_count": null,
      "outputs": [
        {
          "output_type": "stream",
          "name": "stdout",
          "text": [
            "Source 1\n",
            "46                           International Gita Society \n",
            " \n",
            " \n",
            "If due to ego you think: I shall not fight, your resolve is vain. \n",
            "Because your own nature will compel you to fig ht. (18.59) O Ar-\n",
            "juna, you are controlled by your own nature -born Karmic impres-\n",
            "sions (or Samskara). Therefore, you shall do — even against your \n",
            "will — what you do not wish to do out of delusion. (18.60) The Su-\n",
            "preme Lord, Krishna or God, abiding as the controller in the inner \n",
            "psyche of all beings, O Arjuna, causes them to evolve — or work \n",
            "out their Karma — like a puppet of Karma, mounted on a machine. \n",
            "(18.61)  \n",
            "  The Supreme Controller is the reflection of the Supreme \n",
            "Spirit in the body. The Supreme Lord organizes, controls, \n",
            "supervises, and directs everything in the universe. Human being is \n",
            "like a puppet of Karma mounted on a body which is the vehicle of \n",
            "transmigration. The word evolve refers to working out one’s Karma. \n",
            "Thus we become the puppet of our own Karma created by our free \n",
            "will.  \n",
            " The Lord has made Karmic laws as the controller of all \n",
            "living beings. Therefore, one must learn to gladly endure all that \n",
            "fate imposes by taking refuge in God and following His \n",
            "commandments. Vedas declare that the Lord, using His law of \n",
            "Karma, makes us dance as a juggler would make his mon key \n",
            "dance. Without the laws of Karma ; the scriptural in junctions, \n",
            "prohibitions, as well as self-effort, would have no value at all. \n",
            "Karma is the eternal justice and the eternal law. As a result of the \n",
            "working of eternal justice, there can be no escape from the con -\n",
            "sequences of our deeds. We become the product of our own past \n",
            "thinking and action. Therefore, we must think and act wisely at the \n",
            "present moment, using the scriptures as a guide.  \n",
            " The doctrine of Karma and reincarnation is also found in \n",
            "the following two verses of the Koran: Allah is He who created you \n",
            "and then sustained you, then ca uses you to die, then gives life to \n",
            "you again ( Surah 30.40). He may reward those who believe and \n",
            "do good works. No one is able to escape His law of consequences \n",
            "(Surah 30.45). People cannot escape from the consequences of \n",
            "their deeds, for as we sow, so we reap. Cause and effect cannot \n",
            "be separated because the effect exists in the cause as the fruit \n",
            "exists in the seed. Good and evil deeds follow us continually like \n",
            "our shadows.  \n",
            " The Bible also says: Whosoever shedeth man’s blood, by \n",
            "man shall his blood be shed (Genesis 9.06). It is believed that all \n",
            "references to Karma and reincarnation were taken out of the Bible \n",
            "during the second century with the noble aim of encouraging \n",
            "people to strive hard for perfection during this very life. Those who \n",
            "believe in reincarnation must avoid laziness and procrastination, \n",
            "stress intense spiritual discipline, and try their best to get Self -\n",
            "Source 2\n",
            "16                           International Gita Society \n",
            " \n",
            " \n",
            "6. Path of meditation \n",
            "A Karma-yogi is also a renunciant \n",
            "The Supreme Lord said: One who performs the prescribed duty \n",
            "without seeking its fruit only for personal enjoyment, is a renunciant \n",
            "(Samnyasi) and a Karma-yogi. One does not become Samny asi \n",
            "merely by not lighting the fire, and one does not become a yogi \n",
            "merely by abstaining from work. (6.01) O Arjuna, what they call \n",
            "renunciation (Samnyasa) is also known as Karma-yoga. No one \n",
            "becomes a Karma-yogi who has not renounced the selfish motive \n",
            "behind an action. (6.02)  \n",
            "A definition of yoga and yogi \n",
            "For the wise who seeks to attain yoga of meditation or calm-\n",
            "ness of mind, Karma-yoga is said to be the means. For the one \n",
            "who has attained yoga, the calmness becomes the means of Self-\n",
            "realization. A person is said to have attained yogic perfection when  \n",
            "one has no desire for sensual pleasures or attachment to the fruits \n",
            "of work, and has renounced all selfish motives behind any action. \n",
            "(6.03-04) \n",
            "Mind is both a friend and an enemy \n",
            "One must elevate — and not degrade — oneself by one’s own \n",
            "mind. The mind alone is one’s friend as well as one’s enemy. The \n",
            "mind is the friend of those who have control over it, and the same \n",
            "mind acts like an enemy for those who do not control it. (6.05 -06) \n",
            "One who has control over the lower self — the mind and senses \n",
            "— is tranquil in heat and cold, in pleasure and pain, and in honor \n",
            "and dishonor, and remains ever steadfast with the supreme Self. \n",
            "(6.07) A person is called yogi who has both Self -knowledge and \n",
            "Self-realization, who is calm, who has control over the mind and \n",
            "senses, and to whom a clod, a stone, and gold are the same. (6.08) \n",
            "A person is considered superior who is impartial towards compan-\n",
            "ions, friends, enemies, neutrals, arbiters, haters, relative s, saints, \n",
            "and sinners. (6.09)  \n",
            "Techniques of meditation \n",
            "A yogi, seated in solitude and alone, should constantly try to \n",
            "contemplate the Supreme Being after bringing the mind and \n",
            "senses under control, and becoming free from desires and propri-\n",
            "etorship. (6.10) One should sit on his or her own firm seat that is \n",
            "neither too high nor too low, covered with dry grass, a deerskin, \n",
            "and a cloth, one over the other, in a clean spot. Sitting there in a \n",
            "comfortable position and concentrating the mind on God, control-\n",
            "ling the thoughts and the activities of the senses, one should prac-\n",
            "tice meditation for self -purification. (6.11 -12) One should sit by \n",
            "holding the waist, spine, chest, neck, and head erect, motionless \n",
            "and steady; fix the eyes and the mind steadily in front of th e nos-\n",
            "trils, without looking around; make your mind serene and fearless; \n",
            "practice celibacy; have the mind under control; think of Me; and\n",
            "Source 3\n",
            "12                           International Gita Society \n",
            " \n",
            " \n",
            "their duties with this understanding. Therefore, you should do your \n",
            "duty as the ancients did. (4.15) \n",
            "Attached, detached, and forbidden action \n",
            "Even the wise ones are confused about what is action and what \n",
            "is inaction. Therefore, I shall clearly explain what is action, knowing \n",
            "that one shall be liberated from the evil of birth and death. (4.16) \n",
            "The true nature of action is very difficult to understand. Therefore, \n",
            "one should know the nature of attached or selfish action, the nature \n",
            "of detached or selfless action, and also the nature of forbidden ac-\n",
            "tion. (4.17)  \n",
            "A Karma-yogi is not subject  to the Karmic laws \n",
            "The one who sees inaction in action, and action in inaction, is \n",
            "a wise person. Such a person is a yogi and has accomplished eve-\n",
            "rything. (4.18)  \n",
            "To see inaction in action and vice versa is to understand that \n",
            "the Lord does all the work indirectly through His power by using us. \n",
            "He is the inactive actor. We are actively inactive, because we can-\n",
            "not do anything without the flow of His power. Therefore, we are \n",
            "not the doer, just an instrument in His hands.  \n",
            "A person, whose desir es have become selfless by being \n",
            "roasted in the fire of Self-knowledge, is called a sage by the wise. \n",
            "(4.19) The one who has abandoned attachment to the fruits of \n",
            "work, and remains ever content and dependent on no one but God, \n",
            "such a person — though engaged in activity — does nothing at all \n",
            "and incurs no Karmic reaction, good or bad. (4.20) The one who is \n",
            "free from desires, whose mind and senses are under control, and \n",
            "who has renounced all proprietorship, does not incur sin — the \n",
            "Karmic reaction — by doing bodily action. (4.21) Content with \n",
            "whatever gain comes naturally by His will, unaffected by pairs of \n",
            "opposites, free from envy, calm in success and failure, though en-\n",
            "gaged in work, such a Karma-yogi is not bound by Karma. (4.22) \n",
            "The one who is free from attachment, whose mind is fixed in Self-\n",
            "knowledge, who does work as a service (Seva) to the Lord, all Kar-\n",
            "mic bonds of such a philanthropic person ( Karma-yogi) dissolve \n",
            "away. (4.23) God shall be realized by the one who considers eve-\n",
            "rything as a manifestation or an act of God. (Also see 9.16) (4.24)  \n",
            "Different types of spiritual practices  \n",
            "Some yogis perform the service of worship to celestial control-\n",
            "lers (Devas, guardian angels), while others study scriptures for \n",
            "Self-knowledge. Some restrain their senses and give up their sen-\n",
            "sual pleasures. Others perform breathing and other yogic exer-\n",
            "cises. Some give charity and offer their wealth as a sacrifice. (4.25-\n",
            "Source 4\n",
            "6                           International Gita Society \n",
            " \n",
            " \n",
            "service (Seva), endowed with which you will free yourself from the \n",
            "bondage or reactions of action (Karma). (2.39) In Karma-yoga, no \n",
            "effort is ever lost and there is no adverse effect. Even a little prac-\n",
            "tice of this discipline protects one from the great fear of birth and \n",
            "death. (2.40) A Karma-yogi has a resolute determination for God-\n",
            "realization, O Arjuna, but the desires of one who works to enjoy the \n",
            "fruits of work are endless. (2.41)  \n",
            "Material and spiritual aspects of life \n",
            "The misguided ones who delight in the melodious chanting of \n",
            "the Vedas or any scripture — without understanding its real pur-\n",
            "pose — think, O Arjuna, as if there is nothing else in it except the \n",
            "rituals for the sole purpose of obtaining heavenly enjoyment. (2.42) \n",
            "They are dominated by material desires and consider the attain-\n",
            "ment of heaven as the highest goal of life. They engage in specific \n",
            "rites for the sake of prosperity and enjoyment. Rebirth is the result \n",
            "of their action. (2.43) The resolute determination of Self-realization \n",
            "is not formed in the minds of those who are attached to pleasure \n",
            "and power and whose judgment is obscured by such ritualistic ac-\n",
            "tivities. (2.44) A portion of the Vedas deals with three modes or \n",
            "states of the material Nature. Become free from pairs of opposites; \n",
            "be ever balanced and unconcerned with the thoughts of acquisition \n",
            "and preservation. Rise  above the three states, and be Self -con-\n",
            "scious, O Arjuna. (2.45) To a Self -realized person, scriptures are \n",
            "as useful as a small reservoir of water when the water of a huge \n",
            "lake becomes available. (2.46)  \n",
            "Theory and practice of Karma-yoga \n",
            "You have control over your respective duty only, but no control \n",
            "or claim over the results. The fruits of work should not be your only \n",
            "motive and you should never be inactive. (2.47) Do your duty to \n",
            "the best of your ability, O Arjuna, with your mind attached to the \n",
            "Lord, abandoning worry and attachment to the results, and remain-\n",
            "ing calm in both success and failure. The calmness of mind  is \n",
            "called Karma-yoga. (2.48) Work done with selfish motives is infe-\n",
            "rior by far to selfless service or Karma-yoga. Therefore, be a \n",
            "Karma-yogi, O Arjuna. Those who work only to enjoy the fruits of \n",
            "their labor are, in truth, unhappy. Because, one has no control over \n",
            "the results. (2.49)  \n",
            "A true Karma-yogi becomes free from both vice and virtue in \n",
            "this very life. Therefore, strive for Karma-yoga. Working to the best \n",
            "of one’s abilities without becoming attached to the fruits of work is \n",
            "called Karma-yoga. (2.50) Wise Karma-yogis are freed from the \n",
            "bondage of rebirth by renouncing attachment to the fruits of all \n",
            "work and attain a blissful divine sta te. (2.51) When your intellect \n",
            "completely pierces the veil of confusion, then you will become in-\n",
            "different to what has been heard and what is to be heard from the \n",
            "scriptures. (2.52)\n",
            "\n"
          ]
        }
      ]
    },
    {
      "cell_type": "code",
      "source": [
        "!zip -r /content/db.zip /content/db"
      ],
      "metadata": {
        "colab": {
          "base_uri": "https://localhost:8080/"
        },
        "id": "4DunexG_xD92",
        "outputId": "fb4ea92f-1616-42aa-f134-6bd1b1c7b3e8"
      },
      "execution_count": null,
      "outputs": [
        {
          "output_type": "stream",
          "name": "stdout",
          "text": [
            "  adding: content/db/ (stored 0%)\n",
            "  adding: content/db/chroma-collections.parquet (deflated 47%)\n",
            "  adding: content/db/chroma-embeddings.parquet (deflated 19%)\n",
            "  adding: content/db/index/ (stored 0%)\n",
            "  adding: content/db/index/uuid_to_id_ba87efb7-c97b-406f-8e6b-a90df3371b7b.pkl (deflated 40%)\n",
            "  adding: content/db/index/id_to_uuid_ba87efb7-c97b-406f-8e6b-a90df3371b7b.pkl (deflated 31%)\n",
            "  adding: content/db/index/index_ba87efb7-c97b-406f-8e6b-a90df3371b7b.bin (deflated 41%)\n",
            "  adding: content/db/index/index_metadata_ba87efb7-c97b-406f-8e6b-a90df3371b7b.pkl (deflated 14%)\n"
          ]
        }
      ]
    },
    {
      "cell_type": "code",
      "source": [
        "from google.colab import files\n",
        "files.download(\"/content/db.zip\")"
      ],
      "metadata": {
        "colab": {
          "base_uri": "https://localhost:8080/",
          "height": 17
        },
        "id": "zjGOc26-xEAH",
        "outputId": "0a1b22e5-dada-400a-cbd4-58a9568cf51a"
      },
      "execution_count": null,
      "outputs": [
        {
          "output_type": "display_data",
          "data": {
            "text/plain": [
              "<IPython.core.display.Javascript object>"
            ],
            "application/javascript": [
              "\n",
              "    async function download(id, filename, size) {\n",
              "      if (!google.colab.kernel.accessAllowed) {\n",
              "        return;\n",
              "      }\n",
              "      const div = document.createElement('div');\n",
              "      const label = document.createElement('label');\n",
              "      label.textContent = `Downloading \"${filename}\": `;\n",
              "      div.appendChild(label);\n",
              "      const progress = document.createElement('progress');\n",
              "      progress.max = size;\n",
              "      div.appendChild(progress);\n",
              "      document.body.appendChild(div);\n",
              "\n",
              "      const buffers = [];\n",
              "      let downloaded = 0;\n",
              "\n",
              "      const channel = await google.colab.kernel.comms.open(id);\n",
              "      // Send a message to notify the kernel that we're ready.\n",
              "      channel.send({})\n",
              "\n",
              "      for await (const message of channel.messages) {\n",
              "        // Send a message to notify the kernel that we're ready.\n",
              "        channel.send({})\n",
              "        if (message.buffers) {\n",
              "          for (const buffer of message.buffers) {\n",
              "            buffers.push(buffer);\n",
              "            downloaded += buffer.byteLength;\n",
              "            progress.value = downloaded;\n",
              "          }\n",
              "        }\n",
              "      }\n",
              "      const blob = new Blob(buffers, {type: 'application/binary'});\n",
              "      const a = document.createElement('a');\n",
              "      a.href = window.URL.createObjectURL(blob);\n",
              "      a.download = filename;\n",
              "      div.appendChild(a);\n",
              "      a.click();\n",
              "      div.remove();\n",
              "    }\n",
              "  "
            ]
          },
          "metadata": {}
        },
        {
          "output_type": "display_data",
          "data": {
            "text/plain": [
              "<IPython.core.display.Javascript object>"
            ],
            "application/javascript": [
              "download(\"download_2c3e9466-5e42-4121-905d-ee9d81a57690\", \"db.zip\", 1540926)"
            ]
          },
          "metadata": {}
        }
      ]
    },
    {
      "cell_type": "code",
      "source": [],
      "metadata": {
        "id": "37e6WfWIxurC"
      },
      "execution_count": null,
      "outputs": []
    },
    {
      "cell_type": "code",
      "source": [
        "#texts[:20]"
      ],
      "metadata": {
        "id": "o_ufgJBrj9DK"
      },
      "execution_count": null,
      "outputs": []
    }
  ]
}